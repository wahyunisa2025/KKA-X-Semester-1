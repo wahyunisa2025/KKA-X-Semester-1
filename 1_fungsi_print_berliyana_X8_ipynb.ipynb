{
  "nbformat": 4,
  "nbformat_minor": 0,
  "metadata": {
    "colab": {
      "provenance": [],
      "authorship_tag": "ABX9TyPDXBNdTGO/3Ff0fyHeHAbE",
      "include_colab_link": true
    },
    "kernelspec": {
      "name": "python3",
      "display_name": "Python 3"
    },
    "language_info": {
      "name": "python"
    }
  },
  "cells": [
    {
      "cell_type": "markdown",
      "metadata": {
        "id": "view-in-github",
        "colab_type": "text"
      },
      "source": [
        "<a href=\"https://colab.research.google.com/github/wahyunisa2025/KKA-X-Semester-1/blob/main/1_fungsi_print_berliyana_X8_ipynb.ipynb\" target=\"_parent\"><img src=\"https://colab.research.google.com/assets/colab-badge.svg\" alt=\"Open In Colab\"/></a>"
      ]
    },
    {
      "cell_type": "markdown",
      "source": [
        "Nama: Berliyana Wahyu Nissa\n",
        "\n",
        "Kelas: X.8\n",
        "\n",
        "No absen: 8"
      ],
      "metadata": {
        "id": "9veVYJ83eJfu"
      }
    },
    {
      "cell_type": "markdown",
      "source": [
        "#Menampilkan Teks Bebas"
      ],
      "metadata": {
        "id": "75uZd12rflIs"
      }
    },
    {
      "cell_type": "code",
      "execution_count": null,
      "metadata": {
        "colab": {
          "base_uri": "https://localhost:8080/"
        },
        "id": "MX5ywaDebzFR",
        "outputId": "04e65bee-eab5-4788-99ef-2b92fb2c4629"
      },
      "outputs": [
        {
          "output_type": "stream",
          "name": "stdout",
          "text": [
            "Helo world!\n"
          ]
        }
      ],
      "source": [
        "print(\"Helo world!\")"
      ]
    },
    {
      "cell_type": "code",
      "source": [
        "print(\"Berliyana wahyu nissa\")"
      ],
      "metadata": {
        "colab": {
          "base_uri": "https://localhost:8080/"
        },
        "id": "XeqUAo46hVZl",
        "outputId": "d70904f3-59a9-4ae3-b3b9-366d914dcd01"
      },
      "execution_count": null,
      "outputs": [
        {
          "output_type": "stream",
          "name": "stdout",
          "text": [
            "Berliyana wahyu nissa\n"
          ]
        }
      ]
    },
    {
      "cell_type": "markdown",
      "source": [
        "#Menampilkan Nilai Variabel"
      ],
      "metadata": {
        "id": "BXDncKDtiP93"
      }
    },
    {
      "cell_type": "code",
      "source": [
        "usia = 15\n",
        "\n",
        "print(usia)"
      ],
      "metadata": {
        "id": "WxcVSwYciYER",
        "colab": {
          "base_uri": "https://localhost:8080/"
        },
        "outputId": "58f3feda-faa2-4c15-fcd8-69da54192fdd"
      },
      "execution_count": null,
      "outputs": [
        {
          "output_type": "stream",
          "name": "stdout",
          "text": [
            "15\n"
          ]
        }
      ]
    },
    {
      "cell_type": "code",
      "source": [
        "Nama = \"BerliyanaBerliyanBerliyanaBeBerliyana wahyu nissa\"\n",
        "\n",
        "print(Nama)"
      ],
      "metadata": {
        "colab": {
          "base_uri": "https://localhost:8080/"
        },
        "id": "fcV2-N0Cg8tY",
        "outputId": "378bbc52-97e0-484a-ab78-c18e054b0084"
      },
      "execution_count": null,
      "outputs": [
        {
          "output_type": "stream",
          "name": "stdout",
          "text": [
            "BerliyanaBerliyanBerliyanaBeBerliyana wahyu nissa\n"
          ]
        }
      ]
    },
    {
      "cell_type": "code",
      "source": [
        "BB=60\n",
        "print(BB)"
      ],
      "metadata": {
        "colab": {
          "base_uri": "https://localhost:8080/"
        },
        "id": "PS45XXwMhpKH",
        "outputId": "cf822749-1c0f-4767-e61a-05a3f89b38be"
      },
      "execution_count": null,
      "outputs": [
        {
          "output_type": "stream",
          "name": "stdout",
          "text": [
            "60\n"
          ]
        }
      ]
    },
    {
      "cell_type": "markdown",
      "source": [
        "Menampilkan Teks Bebas dan Nilai Variabel"
      ],
      "metadata": {
        "id": "aFYwJzBmivt4"
      }
    },
    {
      "cell_type": "code",
      "source": [
        "print (f\"perkenalkan nama saya{Nama}.\")\n"
      ],
      "metadata": {
        "colab": {
          "base_uri": "https://localhost:8080/"
        },
        "id": "9FKWJbXBi5p4",
        "outputId": "2fb55578-300a-4824-b85f-1a6133743b08"
      },
      "execution_count": null,
      "outputs": [
        {
          "output_type": "stream",
          "name": "stdout",
          "text": [
            "perkenalkan nama sayaBerliyanaBerliyanBerliyanaBeBerliyana wahyu nissa.\n"
          ]
        }
      ]
    },
    {
      "cell_type": "code",
      "source": [
        "print (f\"Berat badan saya {BB} KG.\")"
      ],
      "metadata": {
        "colab": {
          "base_uri": "https://localhost:8080/"
        },
        "id": "JQz_9dXXjPjl",
        "outputId": "ec6829ca-b253-4653-9d21-9dd7c5d6d628"
      },
      "execution_count": null,
      "outputs": [
        {
          "output_type": "stream",
          "name": "stdout",
          "text": [
            "Berat badan saya 60 KG.\n"
          ]
        }
      ]
    },
    {
      "cell_type": "code",
      "source": [
        "print(\"Perkenalkan nama saya \"+ Nama)"
      ],
      "metadata": {
        "colab": {
          "base_uri": "https://localhost:8080/"
        },
        "id": "ORZP8ZXQkHLr",
        "outputId": "8f1ef7ba-aac8-40c4-8a88-7c29c72bcd0e"
      },
      "execution_count": null,
      "outputs": [
        {
          "output_type": "stream",
          "name": "stdout",
          "text": [
            "Perkenalkan nama saya BerliyanaBerliyanBerliyanaBeBerliyana wahyu nissa\n"
          ]
        }
      ]
    },
    {
      "cell_type": "code",
      "source": [
        "print(\"Berat badan saya \" + str(BB) + \"KG.\")"
      ],
      "metadata": {
        "colab": {
          "base_uri": "https://localhost:8080/"
        },
        "id": "r9mJM64dlTdP",
        "outputId": "7d5209f6-f081-4923-cfc4-95aec8e3e31b"
      },
      "execution_count": null,
      "outputs": [
        {
          "output_type": "stream",
          "name": "stdout",
          "text": [
            "Berat badan saya 60KG.\n"
          ]
        }
      ]
    },
    {
      "cell_type": "code",
      "source": [
        "BB=60\n",
        "print(\"Berat badan saya \" , BB , \"KG.\")"
      ],
      "metadata": {
        "colab": {
          "base_uri": "https://localhost:8080/"
        },
        "id": "kQoyHXaelrSz",
        "outputId": "1d3c1917-9672-4d0c-9331-3f715d5136ce"
      },
      "execution_count": null,
      "outputs": [
        {
          "output_type": "stream",
          "name": "stdout",
          "text": [
            "Berat badan saya  60 KG.\n"
          ]
        }
      ]
    },
    {
      "cell_type": "markdown",
      "source": [
        "Escape Character"
      ],
      "metadata": {
        "id": "-u0PI-dbmDZP"
      }
    },
    {
      "cell_type": "code",
      "source": [
        "print(\"Nama:Berliyana wahyu nissa\\nKelas: X. 8\\nNo. Absen: 8\")"
      ],
      "metadata": {
        "colab": {
          "base_uri": "https://localhost:8080/"
        },
        "id": "1JhypTdOmHzC",
        "outputId": "815ec370-e7bf-41be-8f96-f373fbbdfbdb"
      },
      "execution_count": null,
      "outputs": [
        {
          "output_type": "stream",
          "name": "stdout",
          "text": [
            "Nama:Berliyana wahyu nissa\n",
            "Kelas: X. 8\n",
            "No. Absen: 8\n"
          ]
        }
      ]
    },
    {
      "cell_type": "code",
      "source": [
        "print(\"\"\"Nama\\t\\t: Berliyana wahyu nissa\n",
        "Kelas\\t\\t: X.8\n",
        "No. Absen\\t: 8\"\"\")"
      ],
      "metadata": {
        "colab": {
          "base_uri": "https://localhost:8080/"
        },
        "id": "opZLBEH5meq7",
        "outputId": "14dfe505-5f9f-4f0e-daff-aa9c0c7bb3b0"
      },
      "execution_count": null,
      "outputs": [
        {
          "output_type": "stream",
          "name": "stdout",
          "text": [
            "Nama\t\t: Berliyana wahyu nissa\n",
            "Kelas\t\t: X.8\n",
            "No. Absen\t: 8\n"
          ]
        }
      ]
    },
    {
      "cell_type": "code",
      "source": [
        "print(\"Nama:Ja'far Shodiq\\nKelas: X.8\\nNo. Absen:15\")"
      ],
      "metadata": {
        "colab": {
          "base_uri": "https://localhost:8080/"
        },
        "id": "Qmn8NABmnCwK",
        "outputId": "fb266483-5bfd-4d4d-e360-39abfc91bbc3"
      },
      "execution_count": null,
      "outputs": [
        {
          "output_type": "stream",
          "name": "stdout",
          "text": [
            "Nama:Ja'far Shodiq\n",
            "Kelas: X.8\n",
            "No. Absen:15\n"
          ]
        }
      ]
    },
    {
      "cell_type": "code",
      "source": [
        "print('Nama: Ja\\'far Shodiq\\nKelas: X.8\\nNo. Absen;8')"
      ],
      "metadata": {
        "colab": {
          "base_uri": "https://localhost:8080/"
        },
        "id": "JeGax96XnrCh",
        "outputId": "6f05d669-a8fa-417e-fc57-7ef3fc918130"
      },
      "execution_count": null,
      "outputs": [
        {
          "output_type": "stream",
          "name": "stdout",
          "text": [
            "Nama: Ja'far Shodiq\n",
            "Kelas: X.8\n",
            "No. Absen;8\n"
          ]
        }
      ]
    },
    {
      "cell_type": "markdown",
      "source": [
        "Parameter Fungsi print()"
      ],
      "metadata": {
        "id": "9HkUcWTCoQxm"
      }
    },
    {
      "cell_type": "code",
      "source": [
        "Tahun = 2025\n",
        "Bulan = \"Agustus\"\n",
        "Tanggal = 23\n",
        "\n",
        "print(Tahun, Bulan, Tanggal, sep=\"-\")"
      ],
      "metadata": {
        "colab": {
          "base_uri": "https://localhost:8080/"
        },
        "id": "3xWmt_h7ogDt",
        "outputId": "2a090a13-8528-423b-df8a-4b22bdac2ec9"
      },
      "execution_count": null,
      "outputs": [
        {
          "output_type": "stream",
          "name": "stdout",
          "text": [
            "2025-Agustus-23\n"
          ]
        }
      ]
    },
    {
      "cell_type": "code",
      "source": [
        "nama_depan = \"Berliyana\"\n",
        "nama_belakang = \"nissa\"\n",
        "print(nama_depan, end=\"\")\n",
        "print(nama_belakang)\n"
      ],
      "metadata": {
        "colab": {
          "base_uri": "https://localhost:8080/"
        },
        "id": "7pDPQfV5pDzF",
        "outputId": "5f860761-a432-4d8d-e309-d2aab949a22e"
      },
      "execution_count": null,
      "outputs": [
        {
          "output_type": "stream",
          "name": "stdout",
          "text": [
            "Berliyananissa\n"
          ]
        }
      ]
    },
    {
      "cell_type": "code",
      "source": [
        "nama_siswa_1=\"Dinda\"\n",
        "nama_siswa_2=\"Aurin\"\n",
        "nama_siswa_3=\"Lisaan\"\n",
        "print(nama_siswa_3,nama_siswa_2,nama_siswa_1,nama_siswa_3,sep=\"/\" )"
      ],
      "metadata": {
        "colab": {
          "base_uri": "https://localhost:8080/"
        },
        "id": "wVE_MnKuwKsi",
        "outputId": "7f345bb7-9d7d-4064-b494-5c442967d64a"
      },
      "execution_count": null,
      "outputs": [
        {
          "output_type": "stream",
          "name": "stdout",
          "text": [
            "Lisaan/Aurin/Dinda/Lisaan\n"
          ]
        }
      ]
    },
    {
      "cell_type": "code",
      "source": [
        "nama_siswa_4=\"Azkal\"\n",
        "nama_siswa_5=\"Hasim\"\n",
        "nama_siswa_6=\"Chilmi\"\n",
        "nama_siswa_7=\"Nova\"\n",
        "\n",
        "print(nama_siswa_6, end=\"~\")\n",
        "print(nama_siswa_4)\n",
        "\n",
        "print(nama_siswa_5, end=\"-\")\n",
        "print(nama_siswa_7)\n",
        "\n",
        "\n",
        "print(nama_siswa_4, end=\"/\")\n",
        "print(nama_siswa_7, end=\"&\")\n",
        "print(nama_siswa_5)"
      ],
      "metadata": {
        "colab": {
          "base_uri": "https://localhost:8080/"
        },
        "id": "g-BJI-XQxVH3",
        "outputId": "773341f7-3a33-4d87-b9d5-5366ae2f7f45"
      },
      "execution_count": null,
      "outputs": [
        {
          "output_type": "stream",
          "name": "stdout",
          "text": [
            "Chilmi~Azkal\n",
            "Hasim-Nova\n",
            "Azkal/Nova&Hasim\n"
          ]
        }
      ]
    }
  ]
}